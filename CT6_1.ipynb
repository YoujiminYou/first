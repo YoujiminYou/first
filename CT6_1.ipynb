{
  "nbformat": 4,
  "nbformat_minor": 0,
  "metadata": {
    "colab": {
      "provenance": [],
      "authorship_tag": "ABX9TyNZMjRTF96IMIOcXwCiPQTD",
      "include_colab_link": true
    },
    "kernelspec": {
      "name": "python3",
      "display_name": "Python 3"
    },
    "language_info": {
      "name": "python"
    }
  },
  "cells": [
    {
      "cell_type": "markdown",
      "metadata": {
        "id": "view-in-github",
        "colab_type": "text"
      },
      "source": [
        "<a href=\"https://colab.research.google.com/github/YoujiminYou/first/blob/main/CT6_1.ipynb\" target=\"_parent\"><img src=\"https://colab.research.google.com/assets/colab-badge.svg\" alt=\"Open In Colab\"/></a>"
      ]
    },
    {
      "cell_type": "code",
      "execution_count": null,
      "metadata": {
        "id": "wRjWGxqRuwFy"
      },
      "outputs": [],
      "source": [
        "사용자로부터 3개의 정수를 받아 평균을 계산하는 알고리즘과 이것을 구한다."
      ]
    },
    {
      "cell_type": "code",
      "source": [
        "n1=int(input(\"n1의 값을 입력하시오.:\"))   # 사용자에게 n1을 정수형을 받아라\n",
        "n2=int(input(\"n2의 값을 입력하시오.:\"))   # 사용자에게 n2을 정수형을 받아라\n",
        "n3=int(input(\"n3의 값을 입력하시오.:\"))   # 사용자에게 n3을 정수형을 받아라\n",
        "total=n1+n2+n3                            # total변수에 n1, n2, n3의 합을 저장하라\n",
        "average= total/3                          # averahe변수에 total을 3을 나눈 평균값을 저장하라.\n",
        "print('합',total,'평균=',average)         # 합과 변수 total, 평균과 변수 average 값을 화면에 출력하라."
      ],
      "metadata": {
        "colab": {
          "base_uri": "https://localhost:8080/"
        },
        "id": "OkbewFWmu76L",
        "outputId": "2809823a-0819-40c9-e443-f6846706b476"
      },
      "execution_count": 11,
      "outputs": [
        {
          "output_type": "stream",
          "name": "stdout",
          "text": [
            "n1의 값을 입력하시오.:4\n",
            "n2의 값을 입력하시오.:4\n",
            "n3의 값을 입력하시오.:4\n",
            "합 12 평균= 4.0\n"
          ]
        }
      ]
    }
  ]
}